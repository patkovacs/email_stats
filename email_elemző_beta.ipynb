{
 "cells": [
  {
   "cell_type": "markdown",
   "metadata": {
    "collapsed": true
   },
   "source": [
    "# Email cimkézés és statisztikai kimutatások"
   ]
  },
  {
   "cell_type": "markdown",
   "metadata": {},
   "source": [
    "## Mailbox library használata"
   ]
  },
  {
   "cell_type": "code",
   "execution_count": 1,
   "metadata": {
    "collapsed": true
   },
   "outputs": [],
   "source": [
    "import mailbox"
   ]
  },
  {
   "cell_type": "code",
   "execution_count": 25,
   "metadata": {
    "collapsed": true
   },
   "outputs": [],
   "source": [
    "emails = mailbox.mbox('../sch.mbox')"
   ]
  },
  {
   "cell_type": "markdown",
   "metadata": {
    "collapsed": true
   },
   "source": [
    "## Egyéb importok"
   ]
  },
  {
   "cell_type": "code",
   "execution_count": 26,
   "metadata": {
    "collapsed": true
   },
   "outputs": [],
   "source": [
    "from email.utils import parsedate\n",
    "import pandas as pd\n",
    "import re\n",
    "from string import punctuation\n",
    "from sklearn.feature_extraction.text import TfidfVectorizer\n",
    "from sklearn.cluster import KMeans\n",
    "from sklearn.metrics import adjusted_rand_score\n",
    "from flufl.bounce import all_failures\n",
    "import email\n",
    "%matplotlib inline"
   ]
  },
  {
   "cell_type": "markdown",
   "metadata": {},
   "source": [
    "## Attributumok létrehozása, pandas dataframe-mé alakítás"
   ]
  },
  {
   "cell_type": "code",
   "execution_count": 27,
   "metadata": {
    "collapsed": true
   },
   "outputs": [],
   "source": [
    "def getwords(longstring):\n",
    "    r = re.compile(r'[{}]'.format(punctuation))\n",
    "    new_strs = r.sub(' ',longstring)\n",
    "    return(len(new_strs.split()))"
   ]
  },
  {
   "cell_type": "markdown",
   "metadata": {},
   "source": [
    "## Dictionary létrehozása, null értékek elhagyása, dátum formátum létrehozása"
   ]
  },
  {
   "cell_type": "code",
   "execution_count": 28,
   "metadata": {
    "collapsed": false
   },
   "outputs": [],
   "source": [
    "def get_date(raw_date):\n",
    "    return str(parsedate(raw_date)[0]) + '/' + str(parsedate(raw_date)[1]) + '/' + str(parsedate(raw_date)[2])"
   ]
  },
  {
   "cell_type": "code",
   "execution_count": 29,
   "metadata": {
    "collapsed": false
   },
   "outputs": [],
   "source": [
    "mails=[]\n",
    "for mail in emails:\n",
    "    if not isinstance(mail.get_payload(),list) and mail[\"date\"] is not None:\n",
    "        mails.append({'from':mail['from'],\n",
    "                    'to':mail['to'],\n",
    "                    'subject':mail['subject'],\n",
    "                    'char_count':len(mail.get_payload()),\n",
    "                    'word_count':getwords(str(mail.get_payload())), \n",
    "                    'date': get_date(mail['date'])})"
   ]
  },
  {
   "cell_type": "code",
   "execution_count": 30,
   "metadata": {
    "collapsed": false
   },
   "outputs": [],
   "source": [
    "df = pd.DataFrame(mails)"
   ]
  },
  {
   "cell_type": "code",
   "execution_count": 31,
   "metadata": {
    "collapsed": false
   },
   "outputs": [],
   "source": [
    "df['date'] = pd.to_datetime(df.date)"
   ]
  },
  {
   "cell_type": "code",
   "execution_count": 33,
   "metadata": {
    "collapsed": false
   },
   "outputs": [
    {
     "data": {
      "text/html": [
       "<div>\n",
       "<table border=\"1\" class=\"dataframe\">\n",
       "  <thead>\n",
       "    <tr style=\"text-align: right;\">\n",
       "      <th></th>\n",
       "      <th>char_count</th>\n",
       "      <th>date</th>\n",
       "      <th>from</th>\n",
       "      <th>subject</th>\n",
       "      <th>to</th>\n",
       "      <th>word_count</th>\n",
       "    </tr>\n",
       "  </thead>\n",
       "  <tbody>\n",
       "    <tr>\n",
       "      <th>0</th>\n",
       "      <td>645</td>\n",
       "      <td>2013-07-27</td>\n",
       "      <td>supernatural@sch.bme.hu</td>\n",
       "      <td>BME VIKGólyatábor=20megh=C3=ADvó</td>\n",
       "      <td>magyarb94@gmail.com</td>\n",
       "      <td>92</td>\n",
       "    </tr>\n",
       "    <tr>\n",
       "      <th>1</th>\n",
       "      <td>409</td>\n",
       "      <td>2013-08-01</td>\n",
       "      <td>golya@wadon.sch.bme.hu</td>\n",
       "      <td>=?ISO-8859-2?Q?Gólyatábor_jelentkezés</td>\n",
       "      <td>magyarb94@gmail.com</td>\n",
       "      <td>54</td>\n",
       "    </tr>\n",
       "    <tr>\n",
       "      <th>2</th>\n",
       "      <td>409</td>\n",
       "      <td>2013-08-04</td>\n",
       "      <td>golya@wadon.sch.bme.hu</td>\n",
       "      <td>=?ISO-8859-2?Q?Gólyatábor_jelentkezés</td>\n",
       "      <td>magyarb94@gmail.com</td>\n",
       "      <td>54</td>\n",
       "    </tr>\n",
       "    <tr>\n",
       "      <th>3</th>\n",
       "      <td>350</td>\n",
       "      <td>2013-08-22</td>\n",
       "      <td>AdminSCH &lt;noreply@admin.sch.bme.hu&gt;</td>\n",
       "      <td>AdminSCH_-_az_SCH_Accountod_elkész=C3=BClt</td>\n",
       "      <td>Magyar_Balázs_Attila &lt;magyarb94@gmail.com&gt;</td>\n",
       "      <td>48</td>\n",
       "    </tr>\n",
       "    <tr>\n",
       "      <th>4</th>\n",
       "      <td>900</td>\n",
       "      <td>2013-08-26</td>\n",
       "      <td>None</td>\n",
       "      <td>=?UTF-8?QC3=89rtes=C3=ADtés=20kollégiumi=20fel...</td>\n",
       "      <td>magyarb94@gmail.com</td>\n",
       "      <td>155</td>\n",
       "    </tr>\n",
       "  </tbody>\n",
       "</table>\n",
       "</div>"
      ],
      "text/plain": [
       "   char_count       date                                 from  \\\n",
       "0         645 2013-07-27              supernatural@sch.bme.hu   \n",
       "1         409 2013-08-01               golya@wadon.sch.bme.hu   \n",
       "2         409 2013-08-04               golya@wadon.sch.bme.hu   \n",
       "3         350 2013-08-22  AdminSCH <noreply@admin.sch.bme.hu>   \n",
       "4         900 2013-08-26                                 None   \n",
       "\n",
       "                                             subject  \\\n",
       "0                   BME VIKGólyatábor=20megh=C3=ADvó   \n",
       "1              =?ISO-8859-2?Q?Gólyatábor_jelentkezés   \n",
       "2              =?ISO-8859-2?Q?Gólyatábor_jelentkezés   \n",
       "3         AdminSCH_-_az_SCH_Accountod_elkész=C3=BClt   \n",
       "4  =?UTF-8?QC3=89rtes=C3=ADtés=20kollégiumi=20fel...   \n",
       "\n",
       "                                           to  word_count  \n",
       "0                         magyarb94@gmail.com          92  \n",
       "1                         magyarb94@gmail.com          54  \n",
       "2                         magyarb94@gmail.com          54  \n",
       "3  Magyar_Balázs_Attila <magyarb94@gmail.com>          48  \n",
       "4                         magyarb94@gmail.com         155  "
      ]
     },
     "execution_count": 33,
     "metadata": {},
     "output_type": "execute_result"
    }
   ],
   "source": [
    "df.head()"
   ]
  },
  {
   "cell_type": "markdown",
   "metadata": {},
   "source": [
    "## Levelek száma"
   ]
  },
  {
   "cell_type": "code",
   "execution_count": 34,
   "metadata": {
    "collapsed": false
   },
   "outputs": [
    {
     "data": {
      "text/plain": [
       "200"
      ]
     },
     "execution_count": 34,
     "metadata": {},
     "output_type": "execute_result"
    }
   ],
   "source": [
    "df.count()[0]"
   ]
  },
  {
   "cell_type": "markdown",
   "metadata": {},
   "source": [
    "## Példa a létrejövő adatokról : karakter szám, dátum, feladó, tárgy, címzett, szavak száma"
   ]
  },
  {
   "cell_type": "code",
   "execution_count": 35,
   "metadata": {
    "collapsed": false
   },
   "outputs": [],
   "source": [
    "df = df.sort('date')"
   ]
  },
  {
   "cell_type": "markdown",
   "metadata": {},
   "source": [
    "## Napi lebontásban az emailek száma"
   ]
  },
  {
   "cell_type": "code",
   "execution_count": 36,
   "metadata": {
    "collapsed": false
   },
   "outputs": [],
   "source": [
    "groupby_date = df[['date','subject']].groupby('date').count().rename(columns={'subject':'darabszám'})"
   ]
  },
  {
   "cell_type": "code",
   "execution_count": 37,
   "metadata": {
    "collapsed": false
   },
   "outputs": [
    {
     "data": {
      "text/plain": [
       "<matplotlib.axes._subplots.AxesSubplot at 0x1a5e6a58>"
      ]
     },
     "execution_count": 37,
     "metadata": {},
     "output_type": "execute_result"
    },
    {
     "data": {
      "image/png": "[encoded data removed]",
      "text/plain": [
       "<matplotlib.figure.Figure at 0x18595748>"
      ]
     },
     "metadata": {},
     "output_type": "display_data"
    }
   ],
   "source": [
    "groupby_date.plot(kind='line')"
   ]
  },
  {
   "cell_type": "markdown",
   "metadata": {},
   "source": [
    "## Emailek száma címzettenként"
   ]
  },
  {
   "cell_type": "code",
   "execution_count": 38,
   "metadata": {
    "collapsed": false
   },
   "outputs": [],
   "source": [
    "groupby_to = df[['to','subject']].groupby('to').count()"
   ]
  },
  {
   "cell_type": "code",
   "execution_count": 15,
   "metadata": {
    "collapsed": false
   },
   "outputs": [],
   "source": [
    "filtered_to = groupby_to[groupby_to['subject'] > 10]"
   ]
  },
  {
   "cell_type": "code",
   "execution_count": 16,
   "metadata": {
    "collapsed": false
   },
   "outputs": [],
   "source": [
    "filtered_to = filtered_to.rename(columns={'subject':'darabszám'})"
   ]
  },
  {
   "cell_type": "code",
   "execution_count": 17,
   "metadata": {
    "collapsed": false
   },
   "outputs": [
    {
     "data": {
      "text/plain": [
       "<matplotlib.axes._subplots.AxesSubplot at 0x187c99e8>"
      ]
     },
     "execution_count": 17,
     "metadata": {},
     "output_type": "execute_result"
    },
    {
     "data": {
      "image/png": "[encoded data removed]",
      "text/plain": [
       "<matplotlib.figure.Figure at 0x186e77f0>"
      ]
     },
     "metadata": {},
     "output_type": "display_data"
    }
   ],
   "source": [
    "filtered_to.plot(kind='bar')"
   ]
  },
  {
   "cell_type": "markdown",
   "metadata": {},
   "source": [
    "## Leghosszabb email"
   ]
  },
  {
   "cell_type": "code",
   "execution_count": 18,
   "metadata": {
    "collapsed": false
   },
   "outputs": [
    {
     "name": "stdout",
     "output_type": "stream",
     "text": [
      "char_count                                                13380\n",
      "date                                        2002-06-21 00:00:00\n",
      "from                        targetemailextractor@btamail.net.cn\n",
      "subject       [Metakit] ADV: Direct email blaster, email add...\n",
      "to                                            metakit@equi4.com\n",
      "word_count                                                 2536\n",
      "Name: 688, dtype: object\n"
     ]
    }
   ],
   "source": [
    "print df.loc[df['word_count'].idxmax()]"
   ]
  },
  {
   "cell_type": "markdown",
   "metadata": {},
   "source": [
    "# Címkézés (csak angol nyelvű emailekre)"
   ]
  },
  {
   "cell_type": "markdown",
   "metadata": {},
   "source": [
    "## Üzenet szövegének listába rakása az klaszterező algoritmushoz"
   ]
  },
  {
   "cell_type": "code",
   "execution_count": 19,
   "metadata": {
    "collapsed": true
   },
   "outputs": [],
   "source": [
    "mail_payloads = []\n",
    "for counter ,mail in enumerate(emails):\n",
    "    if isinstance(mail.get_payload(), str):\n",
    "        mail_payloads.append(mail.get_payload())\n",
    "    else:\n",
    "        for m in mail.get_payload():\n",
    "            mail_payloads.append(m.get_payload())"
   ]
  },
  {
   "cell_type": "markdown",
   "metadata": {},
   "source": [
    "## UTF-8 ra nem kódolható üzenetek kikukázása"
   ]
  },
  {
   "cell_type": "code",
   "execution_count": 20,
   "metadata": {
    "collapsed": false
   },
   "outputs": [],
   "source": [
    "utf8_mail_payloads = []\n",
    "for mail in mail_payloads:\n",
    "    try:\n",
    "        utf8_mail_payloads.append(mail.decode(encoding='UTF-8',errors='strict'))\n",
    "    except:\n",
    "        utf8_mail_payloads.append(\"\")"
   ]
  },
  {
   "cell_type": "markdown",
   "metadata": {},
   "source": [
    "# Clustering  + létrjeövő címkék"
   ]
  },
  {
   "cell_type": "code",
   "execution_count": 21,
   "metadata": {
    "collapsed": true
   },
   "outputs": [],
   "source": [
    "# Címke csoportok számának megadása:\n",
    "true_k = 5\n",
    "# Címke csoportonkénti javaslatok számának megadása:\n",
    "num = 3"
   ]
  },
  {
   "cell_type": "code",
   "execution_count": 22,
   "metadata": {
    "collapsed": false
   },
   "outputs": [
    {
     "name": "stdout",
     "output_type": "stream",
     "text": [
      "Top terms per cluster:\n",
      "Cluster 0:  metakit  com  yahoo\n",
      "Cluster 1:  vw  db  append\n",
      "Cluster 2:  font  div  nbsp\n",
      "Cluster 3:  metakit  python  file\n",
      "Cluster 4:  view  row  data\n"
     ]
    }
   ],
   "source": [
    "vectorizer = TfidfVectorizer(stop_words='english')\n",
    "X = vectorizer.fit_transform(utf8_mail_payloads)\n",
    "model = KMeans(n_clusters=true_k, init='k-means++', max_iter=100, n_init=1)\n",
    "model.fit(X)\n",
    "print(\"Top terms per cluster:\")\n",
    "order_centroids = model.cluster_centers_.argsort()[:, ::-1]\n",
    "terms = vectorizer.get_feature_names()\n",
    "for i in range(true_k):\n",
    "    print \"Cluster %d:\" % i,\n",
    "    for ind in order_centroids[i, :num]:\n",
    "        print ' %s' % terms[ind],\n",
    "    print"
   ]
  },
  {
   "cell_type": "markdown",
   "metadata": {
    "collapsed": true
   },
   "source": [
    "# Visszapattanás detektálása"
   ]
  },
  {
   "cell_type": "code",
   "execution_count": 23,
   "metadata": {
    "collapsed": false
   },
   "outputs": [
    {
     "ename": "NameError",
     "evalue": "name 'all_emails' is not defined",
     "output_type": "error",
     "traceback": [
      "\u001b[1;31m---------------------------------------------------------------------------\u001b[0m",
      "\u001b[1;31mNameError\u001b[0m                                 Traceback (most recent call last)",
      "\u001b[1;32m<ipython-input-23-873fef123426>\u001b[0m in \u001b[0;36m<module>\u001b[1;34m()\u001b[0m\n\u001b[1;32m----> 1\u001b[1;33m \u001b[0mmsg\u001b[0m \u001b[1;33m=\u001b[0m \u001b[0mall_emails\u001b[0m\u001b[1;33m.\u001b[0m\u001b[0mjoin\u001b[0m\u001b[1;33m(\u001b[0m\u001b[0mutf8_mail_payloads\u001b[0m\u001b[1;33m)\u001b[0m\u001b[1;33m\u001b[0m\u001b[0m\n\u001b[0m",
      "\u001b[1;31mNameError\u001b[0m: name 'all_emails' is not defined"
     ]
    }
   ],
   "source": [
    "msg = all_emails.join(utf8_mail_payloads)"
   ]
  },
  {
   "cell_type": "code",
   "execution_count": 24,
   "metadata": {
    "collapsed": false
   },
   "outputs": [
    {
     "ename": "NameError",
     "evalue": "name 'msg' is not defined",
     "output_type": "error",
     "traceback": [
      "\u001b[1;31m---------------------------------------------------------------------------\u001b[0m",
      "\u001b[1;31mNameError\u001b[0m                                 Traceback (most recent call last)",
      "\u001b[1;32m<ipython-input-24-491684a11543>\u001b[0m in \u001b[0;36m<module>\u001b[1;34m()\u001b[0m\n\u001b[1;32m----> 1\u001b[1;33m \u001b[0mmsg\u001b[0m \u001b[1;33m=\u001b[0m \u001b[0memail\u001b[0m\u001b[1;33m.\u001b[0m\u001b[0mmessage_from_string\u001b[0m\u001b[1;33m(\u001b[0m\u001b[0mmsg\u001b[0m\u001b[1;33m)\u001b[0m\u001b[1;33m\u001b[0m\u001b[0m\n\u001b[0m",
      "\u001b[1;31mNameError\u001b[0m: name 'msg' is not defined"
     ]
    }
   ],
   "source": [
    "msg = email.message_from_string(msg)"
   ]
  },
  {
   "cell_type": "code",
   "execution_count": 41,
   "metadata": {
    "collapsed": false
   },
   "outputs": [],
   "source": [
    "temporary, permanent = all_failures(msg)"
   ]
  },
  {
   "cell_type": "markdown",
   "metadata": {},
   "source": [
    "## Hard Bounced emails:"
   ]
  },
  {
   "cell_type": "code",
   "execution_count": 66,
   "metadata": {
    "collapsed": false
   },
   "outputs": [
    {
     "name": "stdout",
     "output_type": "stream",
     "text": [
      "buf_=3D@0xbce7a968\n",
      "peodfyehrsbg@spammotel.com\n"
     ]
    }
   ],
   "source": [
    "for bounce in permanent:\n",
    "    print bounce"
   ]
  },
  {
   "cell_type": "markdown",
   "metadata": {},
   "source": [
    "## Soft Bounced emails:"
   ]
  },
  {
   "cell_type": "code",
   "execution_count": 67,
   "metadata": {
    "collapsed": false
   },
   "outputs": [],
   "source": [
    "for bounce in temporary:\n",
    "    print bounce"
   ]
  }
 ],
 "metadata": {
  "kernelspec": {
   "display_name": "Python 2",
   "language": "python",
   "name": "python2"
  },
  "language_info": {
   "codemirror_mode": {
    "name": "ipython",
    "version": 2
   },
   "file_extension": ".py",
   "mimetype": "text/x-python",
   "name": "python",
   "nbconvert_exporter": "python",
   "pygments_lexer": "ipython2",
   "version": "2.7.11"
  }
 },
 "nbformat": 4,
 "nbformat_minor": 0
}
